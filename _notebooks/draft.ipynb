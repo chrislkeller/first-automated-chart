{
 "cells": [
  {
   "cell_type": "code",
   "execution_count": 1,
   "id": "ae2e7c90-3adc-48d1-ba30-eea39815f2e9",
   "metadata": {},
   "outputs": [],
   "source": [
    "import pandas as pd\n",
    "from datawrapper import Datawrapper\n",
    "\n",
    "from IPython.display import display"
   ]
  },
  {
   "cell_type": "code",
   "execution_count": 21,
   "id": "74f80540-9335-4c5e-9c58-30c9deddbce2",
   "metadata": {},
   "outputs": [],
   "source": [
    "df = pd.read_csv(\n",
    "    \"./arrests.csv\",\n",
    "    index_col=\"RowID\",\n",
    "    parse_dates=[\"ArrestDateTime\"]\n",
    ")"
   ]
  },
  {
   "cell_type": "code",
   "execution_count": 22,
   "id": "97820111-e185-43e6-bcf8-6b57e9c5b50d",
   "metadata": {},
   "outputs": [
    {
     "data": {
      "text/html": [
       "<div>\n",
       "<style scoped>\n",
       "    .dataframe tbody tr th:only-of-type {\n",
       "        vertical-align: middle;\n",
       "    }\n",
       "\n",
       "    .dataframe tbody tr th {\n",
       "        vertical-align: top;\n",
       "    }\n",
       "\n",
       "    .dataframe thead th {\n",
       "        text-align: right;\n",
       "    }\n",
       "</style>\n",
       "<table border=\"1\" class=\"dataframe\">\n",
       "  <thead>\n",
       "    <tr style=\"text-align: right;\">\n",
       "      <th></th>\n",
       "      <th>X</th>\n",
       "      <th>Y</th>\n",
       "      <th>IncidentNumber</th>\n",
       "      <th>ArrestNumber</th>\n",
       "      <th>Age</th>\n",
       "      <th>Gender</th>\n",
       "      <th>Race</th>\n",
       "      <th>ArrestDateTime</th>\n",
       "      <th>ArrestLocation</th>\n",
       "      <th>IncidentOffence</th>\n",
       "      <th>...</th>\n",
       "      <th>Charge</th>\n",
       "      <th>ChargeDescription</th>\n",
       "      <th>District</th>\n",
       "      <th>Post</th>\n",
       "      <th>Neighborhood</th>\n",
       "      <th>Latitude</th>\n",
       "      <th>Longitude</th>\n",
       "      <th>GeoLocation</th>\n",
       "      <th>Shape</th>\n",
       "      <th>Year</th>\n",
       "    </tr>\n",
       "    <tr>\n",
       "      <th>RowID</th>\n",
       "      <th></th>\n",
       "      <th></th>\n",
       "      <th></th>\n",
       "      <th></th>\n",
       "      <th></th>\n",
       "      <th></th>\n",
       "      <th></th>\n",
       "      <th></th>\n",
       "      <th></th>\n",
       "      <th></th>\n",
       "      <th></th>\n",
       "      <th></th>\n",
       "      <th></th>\n",
       "      <th></th>\n",
       "      <th></th>\n",
       "      <th></th>\n",
       "      <th></th>\n",
       "      <th></th>\n",
       "      <th></th>\n",
       "      <th></th>\n",
       "      <th></th>\n",
       "    </tr>\n",
       "  </thead>\n",
       "  <tbody>\n",
       "    <tr>\n",
       "      <th>29</th>\n",
       "      <td>1.401347e+06</td>\n",
       "      <td>608148.870493</td>\n",
       "      <td>22L09338</td>\n",
       "      <td>23000037.0</td>\n",
       "      <td>39.0</td>\n",
       "      <td>M</td>\n",
       "      <td>B</td>\n",
       "      <td>2022-12-31 23:50:00+00:00</td>\n",
       "      <td>4000 OAKFORD ST</td>\n",
       "      <td>Unknown Offense</td>\n",
       "      <td>...</td>\n",
       "      <td>1 0692</td>\n",
       "      <td>HGV</td>\n",
       "      <td>Northwest</td>\n",
       "      <td>621.0</td>\n",
       "      <td>West Arlington</td>\n",
       "      <td>39.3361</td>\n",
       "      <td>-76.6853</td>\n",
       "      <td>(39.3361,-76.6853)</td>\n",
       "      <td>NaN</td>\n",
       "      <td>2022</td>\n",
       "    </tr>\n",
       "    <tr>\n",
       "      <th>30</th>\n",
       "      <td>1.401347e+06</td>\n",
       "      <td>608148.870493</td>\n",
       "      <td>22L09338</td>\n",
       "      <td>23000039.0</td>\n",
       "      <td>50.0</td>\n",
       "      <td>M</td>\n",
       "      <td>B</td>\n",
       "      <td>2022-12-31 23:50:00+00:00</td>\n",
       "      <td>4000 OAKFORD ST</td>\n",
       "      <td>Unknown Offense</td>\n",
       "      <td>...</td>\n",
       "      <td>1 0692</td>\n",
       "      <td>HGV</td>\n",
       "      <td>Northwest</td>\n",
       "      <td>621.0</td>\n",
       "      <td>West Arlington</td>\n",
       "      <td>39.3361</td>\n",
       "      <td>-76.6853</td>\n",
       "      <td>(39.3361,-76.6853)</td>\n",
       "      <td>NaN</td>\n",
       "      <td>2022</td>\n",
       "    </tr>\n",
       "    <tr>\n",
       "      <th>31</th>\n",
       "      <td>NaN</td>\n",
       "      <td>NaN</td>\n",
       "      <td>NaN</td>\n",
       "      <td>23000010.0</td>\n",
       "      <td>27.0</td>\n",
       "      <td>M</td>\n",
       "      <td>B</td>\n",
       "      <td>2022-12-31 23:40:00+00:00</td>\n",
       "      <td>NaN</td>\n",
       "      <td>Unknown Offense</td>\n",
       "      <td>...</td>\n",
       "      <td>1 0077</td>\n",
       "      <td>FAILURE TO APPEAR</td>\n",
       "      <td>NaN</td>\n",
       "      <td>NaN</td>\n",
       "      <td>NaN</td>\n",
       "      <td>NaN</td>\n",
       "      <td>NaN</td>\n",
       "      <td>(,)</td>\n",
       "      <td>NaN</td>\n",
       "      <td>2022</td>\n",
       "    </tr>\n",
       "    <tr>\n",
       "      <th>32</th>\n",
       "      <td>1.417636e+06</td>\n",
       "      <td>595206.835862</td>\n",
       "      <td>22L09343</td>\n",
       "      <td>23000050.0</td>\n",
       "      <td>42.0</td>\n",
       "      <td>M</td>\n",
       "      <td>B</td>\n",
       "      <td>2022-12-31 23:15:00+00:00</td>\n",
       "      <td>500 DOLPHIN ST</td>\n",
       "      <td>Unknown Offense</td>\n",
       "      <td>...</td>\n",
       "      <td>1 0692</td>\n",
       "      <td>HGV</td>\n",
       "      <td>Central</td>\n",
       "      <td>123.0</td>\n",
       "      <td>Upton</td>\n",
       "      <td>39.3004</td>\n",
       "      <td>-76.6279</td>\n",
       "      <td>(39.3004,-76.6279)</td>\n",
       "      <td>NaN</td>\n",
       "      <td>2022</td>\n",
       "    </tr>\n",
       "    <tr>\n",
       "      <th>33</th>\n",
       "      <td>NaN</td>\n",
       "      <td>NaN</td>\n",
       "      <td>22L09312</td>\n",
       "      <td>22157183.0</td>\n",
       "      <td>43.0</td>\n",
       "      <td>F</td>\n",
       "      <td>W</td>\n",
       "      <td>2022-12-31 21:00:00+00:00</td>\n",
       "      <td>1500 BECKLOW AVE</td>\n",
       "      <td>Unknown Offense</td>\n",
       "      <td>...</td>\n",
       "      <td>2 0480</td>\n",
       "      <td>STOLEN AUTO</td>\n",
       "      <td>NaN</td>\n",
       "      <td>NaN</td>\n",
       "      <td>NaN</td>\n",
       "      <td>NaN</td>\n",
       "      <td>NaN</td>\n",
       "      <td>(,)</td>\n",
       "      <td>NaN</td>\n",
       "      <td>2022</td>\n",
       "    </tr>\n",
       "  </tbody>\n",
       "</table>\n",
       "<p>5 rows × 21 columns</p>\n",
       "</div>"
      ],
      "text/plain": [
       "                  X              Y IncidentNumber  ArrestNumber   Age Gender  \\\n",
       "RowID                                                                          \n",
       "29     1.401347e+06  608148.870493       22L09338    23000037.0  39.0      M   \n",
       "30     1.401347e+06  608148.870493       22L09338    23000039.0  50.0      M   \n",
       "31              NaN            NaN            NaN    23000010.0  27.0      M   \n",
       "32     1.417636e+06  595206.835862       22L09343    23000050.0  42.0      M   \n",
       "33              NaN            NaN       22L09312    22157183.0  43.0      F   \n",
       "\n",
       "      Race            ArrestDateTime    ArrestLocation  IncidentOffence  ...  \\\n",
       "RowID                                                                    ...   \n",
       "29       B 2022-12-31 23:50:00+00:00   4000 OAKFORD ST  Unknown Offense  ...   \n",
       "30       B 2022-12-31 23:50:00+00:00   4000 OAKFORD ST  Unknown Offense  ...   \n",
       "31       B 2022-12-31 23:40:00+00:00               NaN  Unknown Offense  ...   \n",
       "32       B 2022-12-31 23:15:00+00:00    500 DOLPHIN ST  Unknown Offense  ...   \n",
       "33       W 2022-12-31 21:00:00+00:00  1500 BECKLOW AVE  Unknown Offense  ...   \n",
       "\n",
       "       Charge  ChargeDescription   District   Post    Neighborhood Latitude  \\\n",
       "RowID                                                                         \n",
       "29     1 0692                HGV  Northwest  621.0  West Arlington  39.3361   \n",
       "30     1 0692                HGV  Northwest  621.0  West Arlington  39.3361   \n",
       "31     1 0077  FAILURE TO APPEAR        NaN    NaN             NaN      NaN   \n",
       "32     1 0692                HGV    Central  123.0           Upton  39.3004   \n",
       "33     2 0480        STOLEN AUTO        NaN    NaN             NaN      NaN   \n",
       "\n",
       "       Longitude         GeoLocation Shape  Year  \n",
       "RowID                                             \n",
       "29      -76.6853  (39.3361,-76.6853)   NaN  2022  \n",
       "30      -76.6853  (39.3361,-76.6853)   NaN  2022  \n",
       "31           NaN                 (,)   NaN  2022  \n",
       "32      -76.6279  (39.3004,-76.6279)   NaN  2022  \n",
       "33           NaN                 (,)   NaN  2022  \n",
       "\n",
       "[5 rows x 21 columns]"
      ]
     },
     "execution_count": 22,
     "metadata": {},
     "output_type": "execute_result"
    }
   ],
   "source": [
    "df.head()"
   ]
  },
  {
   "cell_type": "code",
   "execution_count": 5,
   "id": "2927ad1a-5ede-464c-b7c7-083fb6371009",
   "metadata": {},
   "outputs": [],
   "source": [
    "df['Year'] = df.ArrestDateTime.dt.year"
   ]
  },
  {
   "cell_type": "code",
   "execution_count": 23,
   "id": "6b4df473-bab5-4b00-9d9a-66fb59e77150",
   "metadata": {},
   "outputs": [],
   "source": [
    "total_by_year = (\n",
    "    df.groupby(\"Year\")\n",
    "        .size()\n",
    "        .rename(\"Arrests\")\n",
    "        .reset_index()\n",
    ")"
   ]
  },
  {
   "cell_type": "code",
   "execution_count": 24,
   "id": "56afe715-53f0-4aa0-8102-0efdb025f628",
   "metadata": {},
   "outputs": [
    {
     "data": {
      "text/html": [
       "<div>\n",
       "<style scoped>\n",
       "    .dataframe tbody tr th:only-of-type {\n",
       "        vertical-align: middle;\n",
       "    }\n",
       "\n",
       "    .dataframe tbody tr th {\n",
       "        vertical-align: top;\n",
       "    }\n",
       "\n",
       "    .dataframe thead th {\n",
       "        text-align: right;\n",
       "    }\n",
       "</style>\n",
       "<table border=\"1\" class=\"dataframe\">\n",
       "  <thead>\n",
       "    <tr style=\"text-align: right;\">\n",
       "      <th></th>\n",
       "      <th>Year</th>\n",
       "      <th>Arrests</th>\n",
       "    </tr>\n",
       "  </thead>\n",
       "  <tbody>\n",
       "    <tr>\n",
       "      <th>0</th>\n",
       "      <td>2010</td>\n",
       "      <td>45224</td>\n",
       "    </tr>\n",
       "    <tr>\n",
       "      <th>1</th>\n",
       "      <td>2011</td>\n",
       "      <td>43364</td>\n",
       "    </tr>\n",
       "    <tr>\n",
       "      <th>2</th>\n",
       "      <td>2012</td>\n",
       "      <td>42333</td>\n",
       "    </tr>\n",
       "    <tr>\n",
       "      <th>3</th>\n",
       "      <td>2013</td>\n",
       "      <td>39542</td>\n",
       "    </tr>\n",
       "    <tr>\n",
       "      <th>4</th>\n",
       "      <td>2014</td>\n",
       "      <td>37078</td>\n",
       "    </tr>\n",
       "    <tr>\n",
       "      <th>5</th>\n",
       "      <td>2015</td>\n",
       "      <td>25732</td>\n",
       "    </tr>\n",
       "    <tr>\n",
       "      <th>6</th>\n",
       "      <td>2016</td>\n",
       "      <td>23089</td>\n",
       "    </tr>\n",
       "    <tr>\n",
       "      <th>7</th>\n",
       "      <td>2017</td>\n",
       "      <td>21989</td>\n",
       "    </tr>\n",
       "    <tr>\n",
       "      <th>8</th>\n",
       "      <td>2018</td>\n",
       "      <td>20543</td>\n",
       "    </tr>\n",
       "    <tr>\n",
       "      <th>9</th>\n",
       "      <td>2019</td>\n",
       "      <td>19407</td>\n",
       "    </tr>\n",
       "    <tr>\n",
       "      <th>10</th>\n",
       "      <td>2020</td>\n",
       "      <td>13162</td>\n",
       "    </tr>\n",
       "    <tr>\n",
       "      <th>11</th>\n",
       "      <td>2021</td>\n",
       "      <td>11130</td>\n",
       "    </tr>\n",
       "    <tr>\n",
       "      <th>12</th>\n",
       "      <td>2022</td>\n",
       "      <td>12360</td>\n",
       "    </tr>\n",
       "    <tr>\n",
       "      <th>13</th>\n",
       "      <td>2023</td>\n",
       "      <td>13566</td>\n",
       "    </tr>\n",
       "  </tbody>\n",
       "</table>\n",
       "</div>"
      ],
      "text/plain": [
       "    Year  Arrests\n",
       "0   2010    45224\n",
       "1   2011    43364\n",
       "2   2012    42333\n",
       "3   2013    39542\n",
       "4   2014    37078\n",
       "5   2015    25732\n",
       "6   2016    23089\n",
       "7   2017    21989\n",
       "8   2018    20543\n",
       "9   2019    19407\n",
       "10  2020    13162\n",
       "11  2021    11130\n",
       "12  2022    12360\n",
       "13  2023    13566"
      ]
     },
     "execution_count": 24,
     "metadata": {},
     "output_type": "execute_result"
    }
   ],
   "source": [
    "total_by_year"
   ]
  },
  {
   "cell_type": "code",
   "execution_count": 9,
   "id": "b0e17ad1-10bb-4128-9dc2-8774c37762dd",
   "metadata": {},
   "outputs": [],
   "source": [
    "dw = Datawrapper()"
   ]
  },
  {
   "cell_type": "code",
   "execution_count": 10,
   "id": "a84a77d3-83c9-408e-9916-2c185a33283c",
   "metadata": {},
   "outputs": [],
   "source": [
    "chart_info = dw.create_chart(\n",
    "    title=\"Baltimore Arrests\", chart_type=\"column-chart\", data=total_by_year\n",
    ")"
   ]
  },
  {
   "cell_type": "code",
   "execution_count": 11,
   "id": "7821d4a5-7dac-4382-ac17-33a448e3d770",
   "metadata": {},
   "outputs": [
    {
     "data": {
      "text/plain": [
       "{'publicId': '3S15a',\n",
       " 'language': 'en-US',\n",
       " 'theme': 'datawrapper',\n",
       " 'title': 'Baltimore Arrests',\n",
       " 'type': 'column-chart',\n",
       " 'lastEditStep': 3,\n",
       " 'metadata': {'data': {'changes': [],\n",
       "   'transpose': False,\n",
       "   'vertical-header': True,\n",
       "   'horizontal-header': True},\n",
       "  'describe': {'source-name': '',\n",
       "   'source-url': '',\n",
       "   'intro': '',\n",
       "   'byline': '',\n",
       "   'aria-description': '',\n",
       "   'number-format': '-',\n",
       "   'number-divisor': 0,\n",
       "   'number-append': '',\n",
       "   'number-prepend': ''},\n",
       "  'visualize': {'dark-mode-invert': True,\n",
       "   'highlighted-series': [],\n",
       "   'highlighted-values': [],\n",
       "   'sharing': {'enabled': False}},\n",
       "  'axes': {},\n",
       "  'publish': {'embed-width': 600,\n",
       "   'embed-height': 400,\n",
       "   'blocks': {'logo': {'enabled': False},\n",
       "    'embed': False,\n",
       "    'download-pdf': False,\n",
       "    'download-svg': False,\n",
       "    'get-the-data': True,\n",
       "    'download-image': False},\n",
       "   'export-pdf': {}},\n",
       "  'annotate': {'notes': ''},\n",
       "  'custom': {}},\n",
       " 'authorId': 182176,\n",
       " 'id': '3S15a',\n",
       " 'lastModifiedAt': '2024-01-28T16:15:43.579Z',\n",
       " 'createdAt': '2024-01-28T16:15:43.559Z',\n",
       " 'organizationId': '5TyD7GtQ',\n",
       " 'url': '/v3/charts/3S15a'}"
      ]
     },
     "execution_count": 11,
     "metadata": {},
     "output_type": "execute_result"
    }
   ],
   "source": [
    "chart_info"
   ]
  },
  {
   "cell_type": "code",
   "execution_count": 12,
   "id": "59247d9e-b8da-4dbc-bba1-0fa45c6da8cd",
   "metadata": {},
   "outputs": [
    {
     "name": "stderr",
     "output_type": "stream",
     "text": [
      "/Users/U6122976/.local/share/virtualenvs/first-automated-chart-F23Vuulg/lib/python3.11/site-packages/IPython/core/display.py:431: UserWarning: Consider using IPython.display.IFrame instead\n",
      "  warnings.warn(\"Consider using IPython.display.IFrame instead\")\n"
     ]
    },
    {
     "data": {
      "text/html": [
       "<iframe title=\"Baltimore Arrests\" aria-label=\"Column Chart\" id=\"datawrapper-chart-3S15a\" src=\"https://datawrapper.dwcdn.net/3S15a/1/\" scrolling=\"no\" frameborder=\"0\" style=\"border: none;\" width=\"600\" height=\"400\" data-external=\"1\"></iframe>"
      ],
      "text/plain": [
       "<IPython.core.display.HTML object>"
      ]
     },
     "execution_count": 12,
     "metadata": {},
     "output_type": "execute_result"
    }
   ],
   "source": [
    "dw.publish_chart(chart_id=chart_info[\"id\"])"
   ]
  },
  {
   "cell_type": "code",
   "execution_count": 13,
   "id": "a8ef86d2-76f4-4e4c-9638-20e4711ba804",
   "metadata": {},
   "outputs": [],
   "source": [
    "dw.update_description(\n",
    "    chart_info[\"id\"],\n",
    "    source_name=\"OpenBaltimore\",\n",
    "    source_url=\"https://data.baltimorecity.gov/datasets/baltimore::bpd-arrests/about\",\n",
    "    byline=\"Ben Welsh\",\n",
    ")"
   ]
  },
  {
   "cell_type": "code",
   "execution_count": 14,
   "id": "25b1bbfa-2426-437b-9011-2391ec3e8b12",
   "metadata": {},
   "outputs": [
    {
     "data": {
      "text/html": [
       "<iframe title=\"Baltimore Arrests\" aria-label=\"Column Chart\" id=\"datawrapper-chart-3S15a\" src=\"https://datawrapper.dwcdn.net/3S15a/2/\" scrolling=\"no\" frameborder=\"0\" style=\"border: none;\" width=\"600\" height=\"400\" data-external=\"1\"></iframe>"
      ],
      "text/plain": [
       "<IPython.core.display.HTML object>"
      ]
     },
     "execution_count": 14,
     "metadata": {},
     "output_type": "execute_result"
    }
   ],
   "source": [
    "dw.publish_chart(chart_id=chart_info[\"id\"])"
   ]
  },
  {
   "cell_type": "code",
   "execution_count": 15,
   "id": "130ccac7-e466-4b51-b6f2-26380890d727",
   "metadata": {},
   "outputs": [
    {
     "data": {
      "text/plain": [
       "District\n",
       "Western      29888\n",
       "Central      28538\n",
       "Eastern      28149\n",
       "Southern     25818\n",
       "Northeast    24191\n",
       "Southeast    23737\n",
       "Northwest    22059\n",
       "Southwest    21853\n",
       "Northern     13107\n",
       "Name: count, dtype: int64"
      ]
     },
     "execution_count": 15,
     "metadata": {},
     "output_type": "execute_result"
    }
   ],
   "source": [
    "df.District.value_counts()"
   ]
  },
  {
   "cell_type": "code",
   "execution_count": 16,
   "id": "bbe4c5f9-a605-4f7b-a463-5ecac3ec5cdd",
   "metadata": {},
   "outputs": [],
   "source": [
    "def create_chart(district: str):\n",
    "    total_by_year = (\n",
    "        df[df.District == district]\n",
    "            .groupby(\"Year\")\n",
    "            .size()\n",
    "            .rename(\"Arrests\")\n",
    "            .reset_index()\n",
    "    )\n",
    "    chart_info = dw.create_chart(\n",
    "        title=f\"Arrests in Baltimore's {district} District\",\n",
    "        chart_type=\"column-chart\",\n",
    "        data=total_by_year,\n",
    "    )\n",
    "    dw.update_description(\n",
    "        chart_info[\"id\"],\n",
    "        source_name=\"OpenBaltimore\",\n",
    "        source_url=\"https://data.baltimorecity.gov/datasets/baltimore::bpd-arrests/about\",\n",
    "        byline=\"Ben Welsh\",\n",
    "    )\n",
    "    return dw.publish_chart(chart_id=chart_info[\"id\"])"
   ]
  },
  {
   "cell_type": "code",
   "execution_count": 17,
   "id": "c860ff83-2072-4664-92ce-6816522a2e26",
   "metadata": {},
   "outputs": [
    {
     "name": "stderr",
     "output_type": "stream",
     "text": [
      "/Users/U6122976/.local/share/virtualenvs/first-automated-chart-F23Vuulg/lib/python3.11/site-packages/IPython/core/display.py:431: UserWarning: Consider using IPython.display.IFrame instead\n",
      "  warnings.warn(\"Consider using IPython.display.IFrame instead\")\n"
     ]
    },
    {
     "data": {
      "text/html": [
       "<iframe title=\"Arrests in Baltimore's Western District\" aria-label=\"Column Chart\" id=\"datawrapper-chart-mbfJE\" src=\"https://datawrapper.dwcdn.net/mbfJE/1/\" scrolling=\"no\" frameborder=\"0\" style=\"border: none;\" width=\"600\" height=\"400\" data-external=\"1\"></iframe>"
      ],
      "text/plain": [
       "<IPython.core.display.HTML object>"
      ]
     },
     "execution_count": 17,
     "metadata": {},
     "output_type": "execute_result"
    }
   ],
   "source": [
    "create_chart(\"Western\")"
   ]
  },
  {
   "cell_type": "code",
   "execution_count": 25,
   "id": "48f88331-8387-4b21-857e-3d02b05dac02",
   "metadata": {},
   "outputs": [
    {
     "name": "stdout",
     "output_type": "stream",
     "text": [
      "Creating chart for Northwest\n"
     ]
    },
    {
     "name": "stderr",
     "output_type": "stream",
     "text": [
      "/Users/U6122976/.local/share/virtualenvs/first-automated-chart-F23Vuulg/lib/python3.11/site-packages/IPython/core/display.py:431: UserWarning: Consider using IPython.display.IFrame instead\n",
      "  warnings.warn(\"Consider using IPython.display.IFrame instead\")\n"
     ]
    },
    {
     "name": "stdout",
     "output_type": "stream",
     "text": [
      "Creating chart for nan\n"
     ]
    },
    {
     "name": "stderr",
     "output_type": "stream",
     "text": [
      "/Users/U6122976/.local/share/virtualenvs/first-automated-chart-F23Vuulg/lib/python3.11/site-packages/IPython/core/display.py:431: UserWarning: Consider using IPython.display.IFrame instead\n",
      "  warnings.warn(\"Consider using IPython.display.IFrame instead\")\n"
     ]
    },
    {
     "name": "stdout",
     "output_type": "stream",
     "text": [
      "Creating chart for Central\n"
     ]
    },
    {
     "name": "stderr",
     "output_type": "stream",
     "text": [
      "/Users/U6122976/.local/share/virtualenvs/first-automated-chart-F23Vuulg/lib/python3.11/site-packages/IPython/core/display.py:431: UserWarning: Consider using IPython.display.IFrame instead\n",
      "  warnings.warn(\"Consider using IPython.display.IFrame instead\")\n"
     ]
    },
    {
     "name": "stdout",
     "output_type": "stream",
     "text": [
      "Creating chart for Western\n"
     ]
    },
    {
     "name": "stderr",
     "output_type": "stream",
     "text": [
      "/Users/U6122976/.local/share/virtualenvs/first-automated-chart-F23Vuulg/lib/python3.11/site-packages/IPython/core/display.py:431: UserWarning: Consider using IPython.display.IFrame instead\n",
      "  warnings.warn(\"Consider using IPython.display.IFrame instead\")\n"
     ]
    },
    {
     "name": "stdout",
     "output_type": "stream",
     "text": [
      "Creating chart for Eastern\n"
     ]
    },
    {
     "name": "stderr",
     "output_type": "stream",
     "text": [
      "/Users/U6122976/.local/share/virtualenvs/first-automated-chart-F23Vuulg/lib/python3.11/site-packages/IPython/core/display.py:431: UserWarning: Consider using IPython.display.IFrame instead\n",
      "  warnings.warn(\"Consider using IPython.display.IFrame instead\")\n"
     ]
    },
    {
     "name": "stdout",
     "output_type": "stream",
     "text": [
      "Creating chart for Northeast\n"
     ]
    },
    {
     "name": "stderr",
     "output_type": "stream",
     "text": [
      "/Users/U6122976/.local/share/virtualenvs/first-automated-chart-F23Vuulg/lib/python3.11/site-packages/IPython/core/display.py:431: UserWarning: Consider using IPython.display.IFrame instead\n",
      "  warnings.warn(\"Consider using IPython.display.IFrame instead\")\n"
     ]
    },
    {
     "name": "stdout",
     "output_type": "stream",
     "text": [
      "Creating chart for Southern\n"
     ]
    },
    {
     "name": "stderr",
     "output_type": "stream",
     "text": [
      "/Users/U6122976/.local/share/virtualenvs/first-automated-chart-F23Vuulg/lib/python3.11/site-packages/IPython/core/display.py:431: UserWarning: Consider using IPython.display.IFrame instead\n",
      "  warnings.warn(\"Consider using IPython.display.IFrame instead\")\n"
     ]
    },
    {
     "name": "stdout",
     "output_type": "stream",
     "text": [
      "Creating chart for Southeast\n"
     ]
    },
    {
     "name": "stderr",
     "output_type": "stream",
     "text": [
      "/Users/U6122976/.local/share/virtualenvs/first-automated-chart-F23Vuulg/lib/python3.11/site-packages/IPython/core/display.py:431: UserWarning: Consider using IPython.display.IFrame instead\n",
      "  warnings.warn(\"Consider using IPython.display.IFrame instead\")\n"
     ]
    },
    {
     "name": "stdout",
     "output_type": "stream",
     "text": [
      "Creating chart for Northern\n"
     ]
    },
    {
     "name": "stderr",
     "output_type": "stream",
     "text": [
      "/Users/U6122976/.local/share/virtualenvs/first-automated-chart-F23Vuulg/lib/python3.11/site-packages/IPython/core/display.py:431: UserWarning: Consider using IPython.display.IFrame instead\n",
      "  warnings.warn(\"Consider using IPython.display.IFrame instead\")\n"
     ]
    },
    {
     "name": "stdout",
     "output_type": "stream",
     "text": [
      "Creating chart for Southwest\n"
     ]
    },
    {
     "name": "stderr",
     "output_type": "stream",
     "text": [
      "/Users/U6122976/.local/share/virtualenvs/first-automated-chart-F23Vuulg/lib/python3.11/site-packages/IPython/core/display.py:431: UserWarning: Consider using IPython.display.IFrame instead\n",
      "  warnings.warn(\"Consider using IPython.display.IFrame instead\")\n"
     ]
    },
    {
     "data": {
      "text/html": [
       "<iframe title=\"Arrests in Baltimore's Northwest District\" aria-label=\"Column Chart\" id=\"datawrapper-chart-i2nMD\" src=\"https://datawrapper.dwcdn.net/i2nMD/1/\" scrolling=\"no\" frameborder=\"0\" style=\"border: none;\" width=\"600\" height=\"400\" data-external=\"1\"></iframe>"
      ],
      "text/plain": [
       "<IPython.core.display.HTML object>"
      ]
     },
     "metadata": {},
     "output_type": "display_data"
    },
    {
     "data": {
      "text/html": [
       "<iframe title=\"Arrests in Baltimore's nan District\" aria-label=\"Column Chart\" id=\"datawrapper-chart-uFrtG\" src=\"https://datawrapper.dwcdn.net/uFrtG/1/\" scrolling=\"no\" frameborder=\"0\" style=\"border: none;\" width=\"600\" height=\"400\" data-external=\"1\"></iframe>"
      ],
      "text/plain": [
       "<IPython.core.display.HTML object>"
      ]
     },
     "metadata": {},
     "output_type": "display_data"
    },
    {
     "data": {
      "text/html": [
       "<iframe title=\"Arrests in Baltimore's Central District\" aria-label=\"Column Chart\" id=\"datawrapper-chart-rvAaF\" src=\"https://datawrapper.dwcdn.net/rvAaF/1/\" scrolling=\"no\" frameborder=\"0\" style=\"border: none;\" width=\"600\" height=\"400\" data-external=\"1\"></iframe>"
      ],
      "text/plain": [
       "<IPython.core.display.HTML object>"
      ]
     },
     "metadata": {},
     "output_type": "display_data"
    },
    {
     "data": {
      "text/html": [
       "<iframe title=\"Arrests in Baltimore's Western District\" aria-label=\"Column Chart\" id=\"datawrapper-chart-Hi5db\" src=\"https://datawrapper.dwcdn.net/Hi5db/1/\" scrolling=\"no\" frameborder=\"0\" style=\"border: none;\" width=\"600\" height=\"400\" data-external=\"1\"></iframe>"
      ],
      "text/plain": [
       "<IPython.core.display.HTML object>"
      ]
     },
     "metadata": {},
     "output_type": "display_data"
    },
    {
     "data": {
      "text/html": [
       "<iframe title=\"Arrests in Baltimore's Eastern District\" aria-label=\"Column Chart\" id=\"datawrapper-chart-HIiO8\" src=\"https://datawrapper.dwcdn.net/HIiO8/1/\" scrolling=\"no\" frameborder=\"0\" style=\"border: none;\" width=\"600\" height=\"400\" data-external=\"1\"></iframe>"
      ],
      "text/plain": [
       "<IPython.core.display.HTML object>"
      ]
     },
     "metadata": {},
     "output_type": "display_data"
    },
    {
     "data": {
      "text/html": [
       "<iframe title=\"Arrests in Baltimore's Northeast District\" aria-label=\"Column Chart\" id=\"datawrapper-chart-08pN7\" src=\"https://datawrapper.dwcdn.net/08pN7/1/\" scrolling=\"no\" frameborder=\"0\" style=\"border: none;\" width=\"600\" height=\"400\" data-external=\"1\"></iframe>"
      ],
      "text/plain": [
       "<IPython.core.display.HTML object>"
      ]
     },
     "metadata": {},
     "output_type": "display_data"
    },
    {
     "data": {
      "text/html": [
       "<iframe title=\"Arrests in Baltimore's Southern District\" aria-label=\"Column Chart\" id=\"datawrapper-chart-LHZYG\" src=\"https://datawrapper.dwcdn.net/LHZYG/1/\" scrolling=\"no\" frameborder=\"0\" style=\"border: none;\" width=\"600\" height=\"400\" data-external=\"1\"></iframe>"
      ],
      "text/plain": [
       "<IPython.core.display.HTML object>"
      ]
     },
     "metadata": {},
     "output_type": "display_data"
    },
    {
     "data": {
      "text/html": [
       "<iframe title=\"Arrests in Baltimore's Southeast District\" aria-label=\"Column Chart\" id=\"datawrapper-chart-H7aPc\" src=\"https://datawrapper.dwcdn.net/H7aPc/1/\" scrolling=\"no\" frameborder=\"0\" style=\"border: none;\" width=\"600\" height=\"400\" data-external=\"1\"></iframe>"
      ],
      "text/plain": [
       "<IPython.core.display.HTML object>"
      ]
     },
     "metadata": {},
     "output_type": "display_data"
    },
    {
     "data": {
      "text/html": [
       "<iframe title=\"Arrests in Baltimore's Northern District\" aria-label=\"Column Chart\" id=\"datawrapper-chart-dMAQf\" src=\"https://datawrapper.dwcdn.net/dMAQf/1/\" scrolling=\"no\" frameborder=\"0\" style=\"border: none;\" width=\"600\" height=\"400\" data-external=\"1\"></iframe>"
      ],
      "text/plain": [
       "<IPython.core.display.HTML object>"
      ]
     },
     "metadata": {},
     "output_type": "display_data"
    },
    {
     "data": {
      "text/html": [
       "<iframe title=\"Arrests in Baltimore's Southwest District\" aria-label=\"Column Chart\" id=\"datawrapper-chart-SzbHo\" src=\"https://datawrapper.dwcdn.net/SzbHo/1/\" scrolling=\"no\" frameborder=\"0\" style=\"border: none;\" width=\"600\" height=\"400\" data-external=\"1\"></iframe>"
      ],
      "text/plain": [
       "<IPython.core.display.HTML object>"
      ]
     },
     "metadata": {},
     "output_type": "display_data"
    }
   ],
   "source": [
    "chart_list = []\n",
    "for district in df.District.dropna().unique():\n",
    "    print(f\"Creating chart for {district}\")\n",
    "    c = create_chart(district)\n",
    "    chart_list.append(c)\n",
    "\n",
    "display(*chart_list)"
   ]
  }
 ],
 "metadata": {
  "kernelspec": {
   "display_name": "Python 3 (ipykernel)",
   "language": "python",
   "name": "python3"
  },
  "language_info": {
   "codemirror_mode": {
    "name": "ipython",
    "version": 3
   },
   "file_extension": ".py",
   "mimetype": "text/x-python",
   "name": "python",
   "nbconvert_exporter": "python",
   "pygments_lexer": "ipython3",
   "version": "3.11.3"
  }
 },
 "nbformat": 4,
 "nbformat_minor": 5
}
