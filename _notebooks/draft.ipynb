{
 "cells": [
  {
   "cell_type": "code",
   "execution_count": 1,
   "id": "ae2e7c90-3adc-48d1-ba30-eea39815f2e9",
   "metadata": {},
   "outputs": [],
   "source": [
    "import pandas as pd\n",
    "from datawrapper import Datawrapper"
   ]
  },
  {
   "cell_type": "code",
   "execution_count": 2,
   "id": "74f80540-9335-4c5e-9c58-30c9deddbce2",
   "metadata": {},
   "outputs": [],
   "source": [
    "df = pd.read_csv(\n",
    "    \"./arrests.csv\",\n",
    "    parse_dates=[\"ArrestDateTime\"]\n",
    ")"
   ]
  },
  {
   "cell_type": "code",
   "execution_count": 3,
   "id": "97820111-e185-43e6-bcf8-6b57e9c5b50d",
   "metadata": {},
   "outputs": [
    {
     "data": {
      "text/html": [
       "<div>\n",
       "<style scoped>\n",
       "    .dataframe tbody tr th:only-of-type {\n",
       "        vertical-align: middle;\n",
       "    }\n",
       "\n",
       "    .dataframe tbody tr th {\n",
       "        vertical-align: top;\n",
       "    }\n",
       "\n",
       "    .dataframe thead th {\n",
       "        text-align: right;\n",
       "    }\n",
       "</style>\n",
       "<table border=\"1\" class=\"dataframe\">\n",
       "  <thead>\n",
       "    <tr style=\"text-align: right;\">\n",
       "      <th></th>\n",
       "      <th>RowID</th>\n",
       "      <th>X</th>\n",
       "      <th>Y</th>\n",
       "      <th>IncidentNumber</th>\n",
       "      <th>ArrestNumber</th>\n",
       "      <th>Age</th>\n",
       "      <th>Gender</th>\n",
       "      <th>Race</th>\n",
       "      <th>ArrestDateTime</th>\n",
       "      <th>ArrestLocation</th>\n",
       "      <th>...</th>\n",
       "      <th>ChargeDescription</th>\n",
       "      <th>District</th>\n",
       "      <th>Post</th>\n",
       "      <th>Neighborhood</th>\n",
       "      <th>Latitude</th>\n",
       "      <th>Longitude</th>\n",
       "      <th>GeoLocation</th>\n",
       "      <th>Shape</th>\n",
       "      <th>Year</th>\n",
       "      <th>year</th>\n",
       "    </tr>\n",
       "  </thead>\n",
       "  <tbody>\n",
       "    <tr>\n",
       "      <th>0</th>\n",
       "      <td>29</td>\n",
       "      <td>1.401347e+06</td>\n",
       "      <td>608148.870493</td>\n",
       "      <td>22L09338</td>\n",
       "      <td>23000037.0</td>\n",
       "      <td>39.0</td>\n",
       "      <td>M</td>\n",
       "      <td>B</td>\n",
       "      <td>2022-12-31 23:50:00</td>\n",
       "      <td>4000 OAKFORD ST</td>\n",
       "      <td>...</td>\n",
       "      <td>HAND GUN VIOLATION</td>\n",
       "      <td>Northwest</td>\n",
       "      <td>621.0</td>\n",
       "      <td>West Arlington</td>\n",
       "      <td>39.3361</td>\n",
       "      <td>-76.6853</td>\n",
       "      <td>(39.3361,-76.6853)</td>\n",
       "      <td>NaN</td>\n",
       "      <td>2022</td>\n",
       "      <td>2022</td>\n",
       "    </tr>\n",
       "    <tr>\n",
       "      <th>1</th>\n",
       "      <td>30</td>\n",
       "      <td>1.401347e+06</td>\n",
       "      <td>608148.870493</td>\n",
       "      <td>22L09338</td>\n",
       "      <td>23000039.0</td>\n",
       "      <td>50.0</td>\n",
       "      <td>M</td>\n",
       "      <td>B</td>\n",
       "      <td>2022-12-31 23:50:00</td>\n",
       "      <td>4000 OAKFORD ST</td>\n",
       "      <td>...</td>\n",
       "      <td>HAND GUN VIOLATION</td>\n",
       "      <td>Northwest</td>\n",
       "      <td>621.0</td>\n",
       "      <td>West Arlington</td>\n",
       "      <td>39.3361</td>\n",
       "      <td>-76.6853</td>\n",
       "      <td>(39.3361,-76.6853)</td>\n",
       "      <td>NaN</td>\n",
       "      <td>2022</td>\n",
       "      <td>2022</td>\n",
       "    </tr>\n",
       "    <tr>\n",
       "      <th>2</th>\n",
       "      <td>31</td>\n",
       "      <td>NaN</td>\n",
       "      <td>NaN</td>\n",
       "      <td>NaN</td>\n",
       "      <td>23000010.0</td>\n",
       "      <td>27.0</td>\n",
       "      <td>M</td>\n",
       "      <td>B</td>\n",
       "      <td>2022-12-31 23:40:00</td>\n",
       "      <td>NaN</td>\n",
       "      <td>...</td>\n",
       "      <td>FAILURE TO APPEAR</td>\n",
       "      <td>NaN</td>\n",
       "      <td>NaN</td>\n",
       "      <td>NaN</td>\n",
       "      <td>NaN</td>\n",
       "      <td>NaN</td>\n",
       "      <td>(,)</td>\n",
       "      <td>NaN</td>\n",
       "      <td>2022</td>\n",
       "      <td>2022</td>\n",
       "    </tr>\n",
       "    <tr>\n",
       "      <th>3</th>\n",
       "      <td>32</td>\n",
       "      <td>1.417636e+06</td>\n",
       "      <td>595206.835862</td>\n",
       "      <td>22L09343</td>\n",
       "      <td>23000050.0</td>\n",
       "      <td>42.0</td>\n",
       "      <td>M</td>\n",
       "      <td>B</td>\n",
       "      <td>2022-12-31 23:15:00</td>\n",
       "      <td>500 DOLPHIN ST</td>\n",
       "      <td>...</td>\n",
       "      <td>HAND GUN VIOLATION</td>\n",
       "      <td>Central</td>\n",
       "      <td>123.0</td>\n",
       "      <td>Upton</td>\n",
       "      <td>39.3004</td>\n",
       "      <td>-76.6279</td>\n",
       "      <td>(39.3004,-76.6279)</td>\n",
       "      <td>NaN</td>\n",
       "      <td>2022</td>\n",
       "      <td>2022</td>\n",
       "    </tr>\n",
       "    <tr>\n",
       "      <th>4</th>\n",
       "      <td>33</td>\n",
       "      <td>NaN</td>\n",
       "      <td>NaN</td>\n",
       "      <td>22L09312</td>\n",
       "      <td>22157183.0</td>\n",
       "      <td>43.0</td>\n",
       "      <td>F</td>\n",
       "      <td>W</td>\n",
       "      <td>2022-12-31 21:00:00</td>\n",
       "      <td>1500 BECKLOW AVE</td>\n",
       "      <td>...</td>\n",
       "      <td>STOLEN AUTO</td>\n",
       "      <td>NaN</td>\n",
       "      <td>NaN</td>\n",
       "      <td>NaN</td>\n",
       "      <td>NaN</td>\n",
       "      <td>NaN</td>\n",
       "      <td>(,)</td>\n",
       "      <td>NaN</td>\n",
       "      <td>2022</td>\n",
       "      <td>2022</td>\n",
       "    </tr>\n",
       "  </tbody>\n",
       "</table>\n",
       "<p>5 rows × 23 columns</p>\n",
       "</div>"
      ],
      "text/plain": [
       "   RowID             X              Y IncidentNumber  ArrestNumber   Age  \\\n",
       "0     29  1.401347e+06  608148.870493       22L09338    23000037.0  39.0   \n",
       "1     30  1.401347e+06  608148.870493       22L09338    23000039.0  50.0   \n",
       "2     31           NaN            NaN            NaN    23000010.0  27.0   \n",
       "3     32  1.417636e+06  595206.835862       22L09343    23000050.0  42.0   \n",
       "4     33           NaN            NaN       22L09312    22157183.0  43.0   \n",
       "\n",
       "  Gender Race      ArrestDateTime    ArrestLocation  ...   ChargeDescription  \\\n",
       "0      M    B 2022-12-31 23:50:00   4000 OAKFORD ST  ...  HAND GUN VIOLATION   \n",
       "1      M    B 2022-12-31 23:50:00   4000 OAKFORD ST  ...  HAND GUN VIOLATION   \n",
       "2      M    B 2022-12-31 23:40:00               NaN  ...   FAILURE TO APPEAR   \n",
       "3      M    B 2022-12-31 23:15:00    500 DOLPHIN ST  ...  HAND GUN VIOLATION   \n",
       "4      F    W 2022-12-31 21:00:00  1500 BECKLOW AVE  ...         STOLEN AUTO   \n",
       "\n",
       "    District   Post    Neighborhood Latitude  Longitude         GeoLocation  \\\n",
       "0  Northwest  621.0  West Arlington  39.3361   -76.6853  (39.3361,-76.6853)   \n",
       "1  Northwest  621.0  West Arlington  39.3361   -76.6853  (39.3361,-76.6853)   \n",
       "2        NaN    NaN             NaN      NaN        NaN                 (,)   \n",
       "3    Central  123.0           Upton  39.3004   -76.6279  (39.3004,-76.6279)   \n",
       "4        NaN    NaN             NaN      NaN        NaN                 (,)   \n",
       "\n",
       "   Shape  Year  year  \n",
       "0    NaN  2022  2022  \n",
       "1    NaN  2022  2022  \n",
       "2    NaN  2022  2022  \n",
       "3    NaN  2022  2022  \n",
       "4    NaN  2022  2022  \n",
       "\n",
       "[5 rows x 23 columns]"
      ]
     },
     "execution_count": 3,
     "metadata": {},
     "output_type": "execute_result"
    }
   ],
   "source": [
    "df.head()"
   ]
  },
  {
   "cell_type": "code",
   "execution_count": 4,
   "id": "2927ad1a-5ede-464c-b7c7-083fb6371009",
   "metadata": {},
   "outputs": [],
   "source": [
    "df['year'] = df.ArrestDateTime.dt.year"
   ]
  },
  {
   "cell_type": "code",
   "execution_count": 5,
   "id": "6b4df473-bab5-4b00-9d9a-66fb59e77150",
   "metadata": {},
   "outputs": [],
   "source": [
    "total_by_year = df.year.value_counts().sort_index().reset_index()"
   ]
  },
  {
   "cell_type": "code",
   "execution_count": 6,
   "id": "56afe715-53f0-4aa0-8102-0efdb025f628",
   "metadata": {},
   "outputs": [
    {
     "data": {
      "text/html": [
       "<div>\n",
       "<style scoped>\n",
       "    .dataframe tbody tr th:only-of-type {\n",
       "        vertical-align: middle;\n",
       "    }\n",
       "\n",
       "    .dataframe tbody tr th {\n",
       "        vertical-align: top;\n",
       "    }\n",
       "\n",
       "    .dataframe thead th {\n",
       "        text-align: right;\n",
       "    }\n",
       "</style>\n",
       "<table border=\"1\" class=\"dataframe\">\n",
       "  <thead>\n",
       "    <tr style=\"text-align: right;\">\n",
       "      <th></th>\n",
       "      <th>year</th>\n",
       "      <th>count</th>\n",
       "    </tr>\n",
       "  </thead>\n",
       "  <tbody>\n",
       "    <tr>\n",
       "      <th>0</th>\n",
       "      <td>2010</td>\n",
       "      <td>45224</td>\n",
       "    </tr>\n",
       "    <tr>\n",
       "      <th>1</th>\n",
       "      <td>2011</td>\n",
       "      <td>43364</td>\n",
       "    </tr>\n",
       "    <tr>\n",
       "      <th>2</th>\n",
       "      <td>2012</td>\n",
       "      <td>42333</td>\n",
       "    </tr>\n",
       "    <tr>\n",
       "      <th>3</th>\n",
       "      <td>2013</td>\n",
       "      <td>39542</td>\n",
       "    </tr>\n",
       "    <tr>\n",
       "      <th>4</th>\n",
       "      <td>2014</td>\n",
       "      <td>37078</td>\n",
       "    </tr>\n",
       "    <tr>\n",
       "      <th>5</th>\n",
       "      <td>2015</td>\n",
       "      <td>25732</td>\n",
       "    </tr>\n",
       "    <tr>\n",
       "      <th>6</th>\n",
       "      <td>2016</td>\n",
       "      <td>23089</td>\n",
       "    </tr>\n",
       "    <tr>\n",
       "      <th>7</th>\n",
       "      <td>2017</td>\n",
       "      <td>21989</td>\n",
       "    </tr>\n",
       "    <tr>\n",
       "      <th>8</th>\n",
       "      <td>2018</td>\n",
       "      <td>20543</td>\n",
       "    </tr>\n",
       "    <tr>\n",
       "      <th>9</th>\n",
       "      <td>2019</td>\n",
       "      <td>19407</td>\n",
       "    </tr>\n",
       "    <tr>\n",
       "      <th>10</th>\n",
       "      <td>2020</td>\n",
       "      <td>13162</td>\n",
       "    </tr>\n",
       "    <tr>\n",
       "      <th>11</th>\n",
       "      <td>2021</td>\n",
       "      <td>11130</td>\n",
       "    </tr>\n",
       "    <tr>\n",
       "      <th>12</th>\n",
       "      <td>2022</td>\n",
       "      <td>12360</td>\n",
       "    </tr>\n",
       "    <tr>\n",
       "      <th>13</th>\n",
       "      <td>2023</td>\n",
       "      <td>13566</td>\n",
       "    </tr>\n",
       "  </tbody>\n",
       "</table>\n",
       "</div>"
      ],
      "text/plain": [
       "    year  count\n",
       "0   2010  45224\n",
       "1   2011  43364\n",
       "2   2012  42333\n",
       "3   2013  39542\n",
       "4   2014  37078\n",
       "5   2015  25732\n",
       "6   2016  23089\n",
       "7   2017  21989\n",
       "8   2018  20543\n",
       "9   2019  19407\n",
       "10  2020  13162\n",
       "11  2021  11130\n",
       "12  2022  12360\n",
       "13  2023  13566"
      ]
     },
     "execution_count": 6,
     "metadata": {},
     "output_type": "execute_result"
    }
   ],
   "source": [
    "total_by_year"
   ]
  },
  {
   "cell_type": "code",
   "execution_count": 7,
   "id": "b0e17ad1-10bb-4128-9dc2-8774c37762dd",
   "metadata": {},
   "outputs": [],
   "source": [
    "dw = Datawrapper()"
   ]
  },
  {
   "cell_type": "code",
   "execution_count": 8,
   "id": "a84a77d3-83c9-408e-9916-2c185a33283c",
   "metadata": {},
   "outputs": [],
   "source": [
    "chart_config = dw.create_chart(\n",
    "    title=\"Baltimore Arrests\",\n",
    "    chart_type=\"column-chart\",\n",
    "    data=total_by_year\n",
    ")"
   ]
  },
  {
   "cell_type": "code",
   "execution_count": 9,
   "id": "ed467ec6-67ea-4984-a600-c36e9c6ff555",
   "metadata": {},
   "outputs": [],
   "source": [
    "chart_id = chart_config[\"id\"]"
   ]
  },
  {
   "cell_type": "code",
   "execution_count": 10,
   "id": "59247d9e-b8da-4dbc-bba1-0fa45c6da8cd",
   "metadata": {},
   "outputs": [],
   "source": [
    "%%capture\n",
    "dw.publish_chart(chart_id)"
   ]
  },
  {
   "cell_type": "code",
   "execution_count": 11,
   "id": "8e25af0b-1446-4be2-880a-72ecda7f0a5b",
   "metadata": {},
   "outputs": [
    {
     "data": {
      "text/html": [
       "\n",
       "        <iframe\n",
       "            width=\"600\"\n",
       "            height=\"400\"\n",
       "            src=\"https://datawrapper.dwcdn.net/ISNSb/1/\"\n",
       "            frameborder=\"0\"\n",
       "            allowfullscreen\n",
       "            \n",
       "        ></iframe>\n",
       "        "
      ],
      "text/plain": [
       "<IPython.lib.display.IFrame at 0x7fbfb226d350>"
      ]
     },
     "execution_count": 11,
     "metadata": {},
     "output_type": "execute_result"
    }
   ],
   "source": [
    "dw.display_chart(chart_id)"
   ]
  },
  {
   "cell_type": "code",
   "execution_count": 12,
   "id": "a8ef86d2-76f4-4e4c-9638-20e4711ba804",
   "metadata": {},
   "outputs": [],
   "source": [
    "%%capture\n",
    "dw.update_description(\n",
    "    chart_id,\n",
    "    source_name=\"OpenBaltimore\",\n",
    "    source_url=\"https://data.baltimorecity.gov/datasets/baltimore::bpd-arrests/about\",\n",
    "    byline=\"Ben Welsh\",\n",
    ")"
   ]
  },
  {
   "cell_type": "code",
   "execution_count": 13,
   "id": "25b1bbfa-2426-437b-9011-2391ec3e8b12",
   "metadata": {},
   "outputs": [],
   "source": [
    "%%capture\n",
    "dw.publish_chart(chart_id)"
   ]
  },
  {
   "cell_type": "code",
   "execution_count": 14,
   "id": "2890e237-7fef-44b5-950a-b61256bd1f78",
   "metadata": {},
   "outputs": [
    {
     "data": {
      "text/html": [
       "\n",
       "        <iframe\n",
       "            width=\"600\"\n",
       "            height=\"400\"\n",
       "            src=\"https://datawrapper.dwcdn.net/ISNSb/2/\"\n",
       "            frameborder=\"0\"\n",
       "            allowfullscreen\n",
       "            \n",
       "        ></iframe>\n",
       "        "
      ],
      "text/plain": [
       "<IPython.lib.display.IFrame at 0x7fbfabee6d50>"
      ]
     },
     "execution_count": 14,
     "metadata": {},
     "output_type": "execute_result"
    }
   ],
   "source": [
    "dw.display_chart(chart_id)"
   ]
  },
  {
   "cell_type": "code",
   "execution_count": 15,
   "id": "bc7d1f69-fe4b-4671-a4d8-f84489502c04",
   "metadata": {},
   "outputs": [],
   "source": [
    "metadata = {\n",
    "    \"visualize\": {\n",
    "        \"base-color\": \"#bf7836\"  # IRE's accent color\n",
    "    }\n",
    "}"
   ]
  },
  {
   "cell_type": "code",
   "execution_count": 16,
   "id": "a6438bd0-35e1-4abb-821c-659e09a373bf",
   "metadata": {},
   "outputs": [],
   "source": [
    "%%capture\n",
    "dw.update_chart(\n",
    "    chart_id,\n",
    "    metadata=metadata\n",
    ")"
   ]
  },
  {
   "cell_type": "code",
   "execution_count": 17,
   "id": "011176ad-4c02-41fb-9e0c-04bfbe562500",
   "metadata": {},
   "outputs": [],
   "source": [
    "%%capture\n",
    "dw.publish_chart(chart_id)"
   ]
  },
  {
   "cell_type": "code",
   "execution_count": 18,
   "id": "7e684f99-b01b-4327-993f-2fcea4e73e14",
   "metadata": {},
   "outputs": [
    {
     "data": {
      "text/html": [
       "\n",
       "        <iframe\n",
       "            width=\"600\"\n",
       "            height=\"400\"\n",
       "            src=\"https://datawrapper.dwcdn.net/ISNSb/3/\"\n",
       "            frameborder=\"0\"\n",
       "            allowfullscreen\n",
       "            \n",
       "        ></iframe>\n",
       "        "
      ],
      "text/plain": [
       "<IPython.lib.display.IFrame at 0x7fbfb07e7850>"
      ]
     },
     "execution_count": 18,
     "metadata": {},
     "output_type": "execute_result"
    }
   ],
   "source": [
    "dw.display_chart(chart_id)"
   ]
  },
  {
   "cell_type": "code",
   "execution_count": 19,
   "id": "130ccac7-e466-4b51-b6f2-26380890d727",
   "metadata": {},
   "outputs": [
    {
     "data": {
      "text/plain": [
       "District\n",
       "Western      29842\n",
       "Central      28501\n",
       "Eastern      28114\n",
       "Southern     25780\n",
       "Northeast    24180\n",
       "Southeast    23710\n",
       "Northwest    22044\n",
       "Southwest    21822\n",
       "Northern     13087\n",
       "Name: count, dtype: int64"
      ]
     },
     "execution_count": 19,
     "metadata": {},
     "output_type": "execute_result"
    }
   ],
   "source": [
    "df.District.value_counts()"
   ]
  },
  {
   "cell_type": "code",
   "execution_count": 20,
   "id": "bbe4c5f9-a605-4f7b-a463-5ecac3ec5cdd",
   "metadata": {},
   "outputs": [],
   "source": [
    "def create_chart(district: str):\n",
    "    district_df = df[df.District == district]\n",
    "    district_by_year = district_df.year.value_counts().sort_index().reset_index()\n",
    "    chart_config = dw.create_chart(\n",
    "        title=f\"Arrests in Baltimore's {district} District\",\n",
    "        chart_type=\"column-chart\",\n",
    "        data=district_by_year,\n",
    "        metadata={\n",
    "            \"visualize\": {\n",
    "                \"base-color\": \"#113421\"  # IRE's accent color\n",
    "            }\n",
    "        }\n",
    "    )\n",
    "    chart_id = chart_config[\"id\"]\n",
    "    dw.update_description(\n",
    "        chart_id,\n",
    "        source_name=\"OpenBaltimore\",\n",
    "        source_url=\"https://data.baltimorecity.gov/datasets/baltimore::bpd-arrests/about\",\n",
    "        byline=\"Ben Welsh\",\n",
    "    )\n",
    "\n",
    "    dw.publish_chart(chart_id)\n",
    "    return dw.display_chart(chart_id)"
   ]
  },
  {
   "cell_type": "code",
   "execution_count": 21,
   "id": "c860ff83-2072-4664-92ce-6816522a2e26",
   "metadata": {},
   "outputs": [
    {
     "data": {
      "text/html": [
       "\n",
       "        <iframe\n",
       "            width=\"600\"\n",
       "            height=\"400\"\n",
       "            src=\"https://datawrapper.dwcdn.net/nWmN0/1/\"\n",
       "            frameborder=\"0\"\n",
       "            allowfullscreen\n",
       "            \n",
       "        ></iframe>\n",
       "        "
      ],
      "text/plain": [
       "<IPython.lib.display.IFrame at 0x7fbfa793f050>"
      ]
     },
     "execution_count": 21,
     "metadata": {},
     "output_type": "execute_result"
    }
   ],
   "source": [
    "create_chart(\"Western\")"
   ]
  },
  {
   "cell_type": "code",
   "execution_count": 22,
   "id": "48f88331-8387-4b21-857e-3d02b05dac02",
   "metadata": {},
   "outputs": [
    {
     "name": "stdout",
     "output_type": "stream",
     "text": [
      "Creating chart for the Northwest District\n",
      "Creating chart for the Central District\n",
      "Creating chart for the Western District\n",
      "Creating chart for the Eastern District\n",
      "Creating chart for the Northeast District\n",
      "Creating chart for the Southern District\n",
      "Creating chart for the Southeast District\n",
      "Creating chart for the Northern District\n",
      "Creating chart for the Southwest District\n"
     ]
    }
   ],
   "source": [
    "chart_list = []\n",
    "for district in df.District.dropna().unique():\n",
    "    print(f\"Creating chart for the {district} District\")\n",
    "    c = create_chart(district)\n",
    "    chart_list.append(c)"
   ]
  },
  {
   "cell_type": "code",
   "execution_count": 23,
   "id": "6d7aa3e3-4223-44bd-836c-d64bd5109b0b",
   "metadata": {},
   "outputs": [],
   "source": [
    "from IPython.display import display"
   ]
  },
  {
   "cell_type": "code",
   "execution_count": 24,
   "id": "a7aed078-8468-47a3-942c-4b494fe05cd8",
   "metadata": {},
   "outputs": [
    {
     "data": {
      "text/html": [
       "\n",
       "        <iframe\n",
       "            width=\"600\"\n",
       "            height=\"400\"\n",
       "            src=\"https://datawrapper.dwcdn.net/96I7n/1/\"\n",
       "            frameborder=\"0\"\n",
       "            allowfullscreen\n",
       "            \n",
       "        ></iframe>\n",
       "        "
      ],
      "text/plain": [
       "<IPython.lib.display.IFrame at 0x7fbfa8100bd0>"
      ]
     },
     "metadata": {},
     "output_type": "display_data"
    },
    {
     "data": {
      "text/html": [
       "\n",
       "        <iframe\n",
       "            width=\"600\"\n",
       "            height=\"400\"\n",
       "            src=\"https://datawrapper.dwcdn.net/Wx14y/1/\"\n",
       "            frameborder=\"0\"\n",
       "            allowfullscreen\n",
       "            \n",
       "        ></iframe>\n",
       "        "
      ],
      "text/plain": [
       "<IPython.lib.display.IFrame at 0x7fbfa8103550>"
      ]
     },
     "metadata": {},
     "output_type": "display_data"
    },
    {
     "data": {
      "text/html": [
       "\n",
       "        <iframe\n",
       "            width=\"600\"\n",
       "            height=\"400\"\n",
       "            src=\"https://datawrapper.dwcdn.net/89pkL/1/\"\n",
       "            frameborder=\"0\"\n",
       "            allowfullscreen\n",
       "            \n",
       "        ></iframe>\n",
       "        "
      ],
      "text/plain": [
       "<IPython.lib.display.IFrame at 0x7fbfb07e4a90>"
      ]
     },
     "metadata": {},
     "output_type": "display_data"
    },
    {
     "data": {
      "text/html": [
       "\n",
       "        <iframe\n",
       "            width=\"600\"\n",
       "            height=\"400\"\n",
       "            src=\"https://datawrapper.dwcdn.net/u88sj/1/\"\n",
       "            frameborder=\"0\"\n",
       "            allowfullscreen\n",
       "            \n",
       "        ></iframe>\n",
       "        "
      ],
      "text/plain": [
       "<IPython.lib.display.IFrame at 0x7fbfb07e5110>"
      ]
     },
     "metadata": {},
     "output_type": "display_data"
    },
    {
     "data": {
      "text/html": [
       "\n",
       "        <iframe\n",
       "            width=\"600\"\n",
       "            height=\"400\"\n",
       "            src=\"https://datawrapper.dwcdn.net/ATb44/1/\"\n",
       "            frameborder=\"0\"\n",
       "            allowfullscreen\n",
       "            \n",
       "        ></iframe>\n",
       "        "
      ],
      "text/plain": [
       "<IPython.lib.display.IFrame at 0x7fbfb1959a10>"
      ]
     },
     "metadata": {},
     "output_type": "display_data"
    },
    {
     "data": {
      "text/html": [
       "\n",
       "        <iframe\n",
       "            width=\"600\"\n",
       "            height=\"400\"\n",
       "            src=\"https://datawrapper.dwcdn.net/3mqkg/1/\"\n",
       "            frameborder=\"0\"\n",
       "            allowfullscreen\n",
       "            \n",
       "        ></iframe>\n",
       "        "
      ],
      "text/plain": [
       "<IPython.lib.display.IFrame at 0x7fbfa8100590>"
      ]
     },
     "metadata": {},
     "output_type": "display_data"
    },
    {
     "data": {
      "text/html": [
       "\n",
       "        <iframe\n",
       "            width=\"600\"\n",
       "            height=\"400\"\n",
       "            src=\"https://datawrapper.dwcdn.net/bQ5pV/1/\"\n",
       "            frameborder=\"0\"\n",
       "            allowfullscreen\n",
       "            \n",
       "        ></iframe>\n",
       "        "
      ],
      "text/plain": [
       "<IPython.lib.display.IFrame at 0x7fbfa81002d0>"
      ]
     },
     "metadata": {},
     "output_type": "display_data"
    },
    {
     "data": {
      "text/html": [
       "\n",
       "        <iframe\n",
       "            width=\"600\"\n",
       "            height=\"400\"\n",
       "            src=\"https://datawrapper.dwcdn.net/1HXIO/1/\"\n",
       "            frameborder=\"0\"\n",
       "            allowfullscreen\n",
       "            \n",
       "        ></iframe>\n",
       "        "
      ],
      "text/plain": [
       "<IPython.lib.display.IFrame at 0x7fbfb200ab10>"
      ]
     },
     "metadata": {},
     "output_type": "display_data"
    },
    {
     "data": {
      "text/html": [
       "\n",
       "        <iframe\n",
       "            width=\"600\"\n",
       "            height=\"400\"\n",
       "            src=\"https://datawrapper.dwcdn.net/2IM5x/1/\"\n",
       "            frameborder=\"0\"\n",
       "            allowfullscreen\n",
       "            \n",
       "        ></iframe>\n",
       "        "
      ],
      "text/plain": [
       "<IPython.lib.display.IFrame at 0x7fbfb07e4c50>"
      ]
     },
     "metadata": {},
     "output_type": "display_data"
    }
   ],
   "source": [
    "display(*chart_list)"
   ]
  },
  {
   "cell_type": "code",
   "execution_count": 25,
   "id": "81aec557-73d9-4a69-8564-861460184ded",
   "metadata": {},
   "outputs": [],
   "source": [
    "from datetime import timedelta"
   ]
  },
  {
   "cell_type": "code",
   "execution_count": 26,
   "id": "612fc2af-5f52-44f3-8ec4-5f48fdb60202",
   "metadata": {},
   "outputs": [
    {
     "data": {
      "text/plain": [
       "Timestamp('2023-12-30 22:54:00')"
      ]
     },
     "execution_count": 26,
     "metadata": {},
     "output_type": "execute_result"
    }
   ],
   "source": [
    "df.ArrestDateTime.max()"
   ]
  },
  {
   "cell_type": "code",
   "execution_count": 27,
   "id": "c568dba2-ddec-41a8-842d-e4fe64984001",
   "metadata": {},
   "outputs": [],
   "source": [
    "max_date = df.ArrestDateTime.max()"
   ]
  },
  {
   "cell_type": "code",
   "execution_count": 28,
   "id": "e64dbff1-6fbe-49e2-b9fd-4e733426330d",
   "metadata": {},
   "outputs": [],
   "source": [
    "seven_days_ago = max_date - timedelta(days=7)"
   ]
  },
  {
   "cell_type": "code",
   "execution_count": 29,
   "id": "6b7ae6f2-12fa-4d37-b07a-66ab21bf6d4d",
   "metadata": {},
   "outputs": [
    {
     "data": {
      "text/plain": [
       "Timestamp('2023-12-23 22:54:00')"
      ]
     },
     "execution_count": 29,
     "metadata": {},
     "output_type": "execute_result"
    }
   ],
   "source": [
    "seven_days_ago"
   ]
  },
  {
   "cell_type": "code",
   "execution_count": 30,
   "id": "97709ce2-0973-45ef-bc7f-49ea861b6a13",
   "metadata": {},
   "outputs": [],
   "source": [
    "last_week_df = df[df.ArrestDateTime >= seven_days_ago]"
   ]
  },
  {
   "cell_type": "code",
   "execution_count": 31,
   "id": "a886dfd9-5ff1-4a97-88ee-05e58984fc7b",
   "metadata": {},
   "outputs": [
    {
     "data": {
      "text/plain": [
       "ChargeDescription\n",
       "FAILURE TO APPEAR        34\n",
       "ASSAULT-SECOND DEGREE    30\n",
       "CONTROLLED SUBSTANCE     20\n",
       "HAND GUN VIOLATION       14\n",
       "ASSAULT-FIRST DEGREE      8\n",
       "AGGRAVATED ASSAULT        6\n",
       "COMMON ASSAULT            6\n",
       "ATT 1ST DEG. MURDER       6\n",
       "STOLEN AUTO               5\n",
       "BURGLARY                  4\n",
       "Name: count, dtype: int64"
      ]
     },
     "execution_count": 31,
     "metadata": {},
     "output_type": "execute_result"
    }
   ],
   "source": [
    "last_week_df.ChargeDescription.value_counts()"
   ]
  },
  {
   "cell_type": "code",
   "execution_count": 32,
   "id": "ff11d6cf-9436-4a92-bf77-e15bfbcee3ea",
   "metadata": {},
   "outputs": [],
   "source": [
    "top_charges_df = last_week_df.ChargeDescription.value_counts().reset_index().head(10)"
   ]
  },
  {
   "cell_type": "code",
   "execution_count": 49,
   "id": "343ee875-283c-41c9-affd-36d388f5725a",
   "metadata": {},
   "outputs": [],
   "source": [
    "chart_config = dw.create_chart(\n",
    "    title=f\"Top 10 arrest charges in Baltimore last week\",\n",
    "    chart_type=\"d3-bars\",\n",
    "    data=top_charges_df,\n",
    "    metadata={\n",
    "        \"visualize\": {\n",
    "            \"base-color\": \"#113421\",\n",
    "            \"thick\": True,\n",
    "        },\n",
    "        \"describe\": {\n",
    "            \"source-name\": \"OpenBaltimore\",\n",
    "            \"source-url\": \"https://data.baltimorecity.gov/datasets/baltimore::bpd-arrests/about\",\n",
    "            \"byline\": \"Ben Welsh\"\n",
    "        }\n",
    "    }\n",
    ")"
   ]
  },
  {
   "cell_type": "code",
   "execution_count": 50,
   "id": "ccc467a1-ae74-41a2-9764-64bcef0240ce",
   "metadata": {},
   "outputs": [],
   "source": [
    "chart_id = chart_config[\"id\"]"
   ]
  },
  {
   "cell_type": "code",
   "execution_count": 51,
   "id": "36df7c91-89da-48fb-bd7d-a6b46f40d1f7",
   "metadata": {},
   "outputs": [],
   "source": [
    "%%capture\n",
    "dw.publish_chart(chart_id)"
   ]
  },
  {
   "cell_type": "code",
   "execution_count": 52,
   "id": "28c122d7-da9b-4d71-b888-6cb4f2eaa954",
   "metadata": {},
   "outputs": [
    {
     "data": {
      "text/html": [
       "\n",
       "        <iframe\n",
       "            width=\"600\"\n",
       "            height=\"400\"\n",
       "            src=\"https://datawrapper.dwcdn.net/3PrVV/1/\"\n",
       "            frameborder=\"0\"\n",
       "            allowfullscreen\n",
       "            \n",
       "        ></iframe>\n",
       "        "
      ],
      "text/plain": [
       "<IPython.lib.display.IFrame at 0x7fbfb13a7e90>"
      ]
     },
     "execution_count": 52,
     "metadata": {},
     "output_type": "execute_result"
    }
   ],
   "source": [
    "dw.display_chart(chart_id)"
   ]
  }
 ],
 "metadata": {
  "kernelspec": {
   "display_name": "Python 3 (ipykernel)",
   "language": "python",
   "name": "python3"
  },
  "language_info": {
   "codemirror_mode": {
    "name": "ipython",
    "version": 3
   },
   "file_extension": ".py",
   "mimetype": "text/x-python",
   "name": "python",
   "nbconvert_exporter": "python",
   "pygments_lexer": "ipython3",
   "version": "3.11.4"
  }
 },
 "nbformat": 4,
 "nbformat_minor": 5
}
